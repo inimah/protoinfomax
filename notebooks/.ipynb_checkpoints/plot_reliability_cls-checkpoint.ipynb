{
 "cells": [
  {
   "cell_type": "code",
   "execution_count": 1,
   "metadata": {},
   "outputs": [],
   "source": [
    "import os\n",
    "import sys\n",
    "sys.path.append(os.getcwd())\n",
    "import numpy as np\n",
    "\n",
    "import re\n",
    "import string\n",
    "import _pickle as cPickle\n",
    "\n",
    "def read_pickle(filepath, filename):\n",
    "\n",
    "        f = open(os.path.join(filepath, filename), 'rb')\n",
    "        read_file = cPickle.load(f)\n",
    "        f.close()\n",
    "\n",
    "        return read_file\n",
    "\n",
    "def save_pickle(filepath, filename, data):\n",
    "\n",
    "    f = open(os.path.join(filepath, filename), 'wb')\n",
    "    cPickle.dump(data, f)\n",
    "    print(\" file saved to: %s\"%(os.path.join(filepath, filename)))\n",
    "    f.close()"
   ]
  },
  {
   "cell_type": "code",
   "execution_count": 2,
   "metadata": {},
   "outputs": [],
   "source": [
    "# Prediction outputs from ProtoInfoMax++ model on sentiment classification ep=0\n",
    "# ep=0 is obtained based on results at which 1-CER is the highest\n",
    "t_probs, t_gts = read_pickle('../eval/', 'tprobs_gts_imax_kw_cls_all_0.pkl')"
   ]
  },
  {
   "cell_type": "code",
   "execution_count": 3,
   "metadata": {},
   "outputs": [
    {
     "data": {
      "text/plain": [
       "(1120, 2)"
      ]
     },
     "execution_count": 3,
     "metadata": {},
     "output_type": "execute_result"
    }
   ],
   "source": [
    "t_probs = t_probs.reshape((t_probs.shape[0], t_probs.shape[1]))\n",
    "t_probs.shape"
   ]
  },
  {
   "cell_type": "code",
   "execution_count": 4,
   "metadata": {},
   "outputs": [
    {
     "data": {
      "text/plain": [
       "array(['0', '0', '0', ..., 'UNCONFIDENT_INTENT_FROM_SLAD',\n",
       "       'UNCONFIDENT_INTENT_FROM_SLAD', 'UNCONFIDENT_INTENT_FROM_SLAD'],\n",
       "      dtype='<U28')"
      ]
     },
     "execution_count": 4,
     "metadata": {},
     "output_type": "execute_result"
    }
   ],
   "source": [
    "# ground truth targets for sentiment classification\n",
    "t_gts"
   ]
  },
  {
   "cell_type": "markdown",
   "metadata": {},
   "source": [
    "### Get prediction outcomes for OOD examples"
   ]
  },
  {
   "cell_type": "code",
   "execution_count": 5,
   "metadata": {},
   "outputs": [],
   "source": [
    "# Get prediction for OOD examples\n",
    "ood_lbl_pt = np.where(t_gts=='UNCONFIDENT_INTENT_FROM_SLAD')\n",
    "ood_labels = t_gts[ood_lbl_pt]\n",
    "ood_probs = t_probs[ood_lbl_pt]\n",
    "ood_probs_ = [max(ps) for ps in ood_probs]"
   ]
  },
  {
   "cell_type": "code",
   "execution_count": 6,
   "metadata": {},
   "outputs": [
    {
     "data": {
      "text/plain": [
       "0.6675428"
      ]
     },
     "execution_count": 6,
     "metadata": {},
     "output_type": "execute_result"
    }
   ],
   "source": [
    "# Average of probability outputs for OOD examples\n",
    "np.mean(ood_probs_)"
   ]
  },
  {
   "cell_type": "code",
   "execution_count": 7,
   "metadata": {},
   "outputs": [],
   "source": [
    "# tau (threshold) is obtained based on heuristic search\n",
    "ood_pred = ['ood' if p<.814 else 'id' for p in ood_probs_]\n",
    "ood_lbl = ['ood'] * len(ood_pred)"
   ]
  },
  {
   "cell_type": "markdown",
   "metadata": {},
   "source": [
    "### Get prediction outcomes for ID examples"
   ]
  },
  {
   "cell_type": "code",
   "execution_count": 8,
   "metadata": {},
   "outputs": [],
   "source": [
    "id_labels_pt0 = np.where(t_gts=='0')\n",
    "id_labels_pt1 = np.where(t_gts=='1')\n",
    "\n",
    "id_labels_pt=[]\n",
    "id_labels_pt.extend(id_labels_pt0[0])\n",
    "id_labels_pt.extend(id_labels_pt1[0])\n",
    "\n",
    "id_labels = t_gts[id_labels_pt]\n",
    "id_probs = t_probs[id_labels_pt]\n",
    "id_probs = [[p if p>=0 else 0 for p in ps] for ps in id_probs]\n",
    "id_labels = [int(i) for i in id_labels]"
   ]
  },
  {
   "cell_type": "code",
   "execution_count": 9,
   "metadata": {},
   "outputs": [
    {
     "data": {
      "text/plain": [
       "0.81753904"
      ]
     },
     "execution_count": 9,
     "metadata": {},
     "output_type": "execute_result"
    }
   ],
   "source": [
    "# Average of probability outputs for ID examples\n",
    "np.mean(id_probs)"
   ]
  },
  {
   "cell_type": "markdown",
   "metadata": {},
   "source": [
    "### Plotting"
   ]
  },
  {
   "cell_type": "code",
   "execution_count": 10,
   "metadata": {},
   "outputs": [],
   "source": [
    "from matplotlib import pyplot as plt\n",
    "import numpy as np\n",
    "import pandas as pd\n",
    "from os.path import join\n",
    "\n",
    "from cal_methods import HistogramBinning, TemperatureScaling\n",
    "from betacal import BetaCalibration\n",
    "from sklearn.isotonic import IsotonicRegression\n",
    "from sklearn.linear_model import LogisticRegression"
   ]
  },
  {
   "cell_type": "code",
   "execution_count": 11,
   "metadata": {},
   "outputs": [],
   "source": [
    "# Imports to get \"utility\" package\n",
    "import sys\n",
    "from os import path\n",
    "sys.path.append( path.dirname( path.dirname( path.abspath(\"utility\") ) ) )\n",
    "from utility.unpickle_probs import unpickle_probs\n",
    "from utility.evaluation import get_bin_info, softmax"
   ]
  },
  {
   "cell_type": "code",
   "execution_count": 12,
   "metadata": {},
   "outputs": [],
   "source": [
    "def compute_calibration(true_labels, pred_labels, confidences, num_bins=10):\n",
    "    \"\"\"Collects predictions into bins used to draw a reliability diagram.\n",
    "\n",
    "    Arguments:\n",
    "        true_labels: the true labels for the test examples\n",
    "        pred_labels: the predicted labels for the test examples\n",
    "        confidences: the predicted confidences for the test examples\n",
    "        num_bins: number of bins\n",
    "\n",
    "    The true_labels, pred_labels, confidences arguments must be NumPy arrays;\n",
    "    pred_labels and true_labels may contain numeric or string labels.\n",
    "\n",
    "    For a multi-class model, the predicted label and confidence should be those\n",
    "    of the highest scoring class.\n",
    "\n",
    "    Returns a dictionary containing the following NumPy arrays:\n",
    "        accuracies: the average accuracy for each bin\n",
    "        confidences: the average confidence for each bin\n",
    "        counts: the number of examples in each bin\n",
    "        bins: the confidence thresholds for each bin\n",
    "        avg_accuracy: the accuracy over the entire test set\n",
    "        avg_confidence: the average confidence over the entire test set\n",
    "        expected_calibration_error: a weighted average of all calibration gaps\n",
    "        max_calibration_error: the largest calibration gap across all bins\n",
    "    \"\"\"\n",
    "    assert(len(confidences) == len(pred_labels))\n",
    "    assert(len(confidences) == len(true_labels))\n",
    "    assert(num_bins > 0)\n",
    "\n",
    "    bin_size = 1.0 / num_bins\n",
    "    bins = np.linspace(0.0, 1.0, num_bins + 1)\n",
    "    indices = np.digitize(confidences, bins, right=True)\n",
    "\n",
    "    bin_accuracies = np.zeros(num_bins, dtype=np.float)\n",
    "    bin_confidences = np.zeros(num_bins, dtype=np.float)\n",
    "    bin_counts = np.zeros(num_bins, dtype=np.int)\n",
    "\n",
    "    for b in range(num_bins):\n",
    "        selected = np.where(indices == b + 1)[0]\n",
    "        if len(selected) > 0:\n",
    "            bin_accuracies[b] = np.mean(true_labels[selected] == pred_labels[selected])\n",
    "            bin_confidences[b] = np.mean(confidences[selected])\n",
    "            bin_counts[b] = len(selected)\n",
    "\n",
    "    avg_acc = np.sum(bin_accuracies * bin_counts) / np.sum(bin_counts)\n",
    "    avg_conf = np.sum(bin_confidences * bin_counts) / np.sum(bin_counts)\n",
    "\n",
    "    gaps = np.abs(bin_accuracies - bin_confidences)\n",
    "    ece = np.sum(gaps * bin_counts) / np.sum(bin_counts)\n",
    "    mce = np.max(gaps)\n",
    "\n",
    "    return { \"accuracies\": bin_accuracies, \n",
    "             \"confidences\": bin_confidences, \n",
    "             \"counts\": bin_counts, \n",
    "             \"bins\": bins,\n",
    "             \"avg_accuracy\": avg_acc,\n",
    "             \"avg_confidence\": avg_conf,\n",
    "             \"expected_calibration_error\": ece,\n",
    "             \"max_calibration_error\": mce }"
   ]
  },
  {
   "cell_type": "code",
   "execution_count": 13,
   "metadata": {},
   "outputs": [],
   "source": [
    "def _reliability_diagram_subplot(ax, bin_data, \n",
    "                                 draw_ece=True, \n",
    "                                 draw_bin_importance=False,\n",
    "                                 title=\"Reliability Diagram\", \n",
    "                                 xlabel=\"Confidence\", \n",
    "                                 ylabel=\"Expected Accuracy\"):\n",
    "    \"\"\"Draws a reliability diagram into a subplot.\"\"\"\n",
    "    accuracies = bin_data[\"accuracies\"]\n",
    "    confidences = bin_data[\"confidences\"]\n",
    "    counts = bin_data[\"counts\"]\n",
    "    bins = bin_data[\"bins\"]\n",
    "\n",
    "    bin_size = 1.0 / len(counts)\n",
    "    positions = bins[:-1] + bin_size/2.0\n",
    "\n",
    "    widths = bin_size\n",
    "    alphas = 0.3\n",
    "    min_count = np.min(counts)\n",
    "    max_count = np.max(counts)\n",
    "    normalized_counts = (counts - min_count) / (max_count - min_count)\n",
    "\n",
    "    if draw_bin_importance == \"alpha\":\n",
    "        alphas = 0.2 + 0.8*normalized_counts\n",
    "    elif draw_bin_importance == \"width\":\n",
    "        widths = 0.1*bin_size + 0.9*bin_size*normalized_counts\n",
    "\n",
    "    colors = np.zeros((len(counts), 4))\n",
    "    colors[:, 0] = 240 / 255.\n",
    "    colors[:, 1] = 60 / 255.\n",
    "    colors[:, 2] = 60 / 255.\n",
    "    colors[:, 3] = alphas\n",
    "\n",
    "    gap_plt = ax.bar(positions, np.abs(accuracies - confidences), \n",
    "                     bottom=np.minimum(accuracies, confidences), width=widths,\n",
    "                     edgecolor=colors, color=colors, linewidth=1, label=\"Gap\")\n",
    "\n",
    "    acc_plt = ax.bar(positions, 0, bottom=accuracies, width=widths,\n",
    "                     edgecolor=\"black\", color=\"black\", alpha=1.0, linewidth=3,\n",
    "                     label=\"Accuracy\")\n",
    "\n",
    "    ax.set_aspect(\"equal\")\n",
    "    ax.plot([0,1], [0,1], linestyle = \"--\", color=\"gray\")\n",
    "    \n",
    "    if draw_ece:\n",
    "        ece = (bin_data[\"expected_calibration_error\"] * 100)\n",
    "        ax.text(0.98, 0.02, \"ECE=%.2f\" % ece, color=\"black\", \n",
    "                ha=\"right\", va=\"bottom\", transform=ax.transAxes)\n",
    "\n",
    "    ax.set_xlim(0, 1)\n",
    "    ax.set_ylim(0, 1)\n",
    "    #ax.set_xticks(bins)\n",
    "\n",
    "    #ax.set_title(title)\n",
    "    ax.set_xlabel(xlabel)\n",
    "    ax.set_ylabel(ylabel)\n",
    "\n",
    "    ax.legend(handles=[gap_plt, acc_plt], loc='upper left')\n",
    "    #ax.legend(handles=[gap_plt, acc_plt], loc='center right', bbox_to_anchor=(0.99, 0.3))"
   ]
  },
  {
   "cell_type": "code",
   "execution_count": 14,
   "metadata": {},
   "outputs": [],
   "source": [
    "\n",
    "def _confidence_histogram_subplot_ood(ax, bin_data, \n",
    "                                  draw_averages=True,\n",
    "                                  title=\"Examples per bin\", \n",
    "                                  xlabel=\"Confidence\",\n",
    "                                  ylabel=\"Count\"):\n",
    "    \"\"\"Draws a confidence histogram into a subplot.\"\"\"\n",
    "    counts = bin_data[\"counts\"]\n",
    "    bins = bin_data[\"bins\"]\n",
    "\n",
    "    bin_size = 1.0 / len(counts)\n",
    "    positions = bins[:-1] + bin_size/2.0\n",
    "\n",
    "    ax.bar(positions, counts, width=bin_size * 0.9, color=\"red\")\n",
    "   \n",
    "    ax.set_xlim(0, 1)\n",
    "    #ax.set_title(title)\n",
    "    ax.set_xlabel(xlabel)\n",
    "    ax.set_ylabel(ylabel)\n",
    "    ax.grid(False)\n",
    "\n",
    "    if draw_averages:\n",
    "     \n",
    "        ax.text(0.55, 25, \"%.2f\" % bin_data['avg_confidence'], color=\"black\", \n",
    "                ha=\"center\", va=\"center\")\n",
    "       \n",
    "        ax.text(0.85, 25, \"%.2f\" % bin_data['avg_accuracy'], color=\"black\", \n",
    "                ha=\"center\", va=\"center\")\n",
    "        acc_plt = ax.axvline(x=bin_data[\"avg_accuracy\"], ls=\"solid\", lw=3, \n",
    "                             c=\"black\", label=\"Accuracy\")\n",
    "        conf_plt = ax.axvline(x=bin_data[\"avg_confidence\"], ls=\"dotted\", lw=3, \n",
    "                              c=\"#444\", label=\"Avg. confidence\")\n",
    "        ax.legend(handles=[acc_plt,conf_plt])"
   ]
  },
  {
   "cell_type": "code",
   "execution_count": 15,
   "metadata": {},
   "outputs": [],
   "source": [
    "\n",
    "def _confidence_histogram_subplot(ax, bin_data, \n",
    "                                  draw_averages=True,\n",
    "                                  title=\"Examples per bin\", \n",
    "                                  xlabel=\"Confidence\",\n",
    "                                  ylabel=\"Count\"):\n",
    "    \"\"\"Draws a confidence histogram into a subplot.\"\"\"\n",
    "    counts = bin_data[\"counts\"]\n",
    "    bins = bin_data[\"bins\"]\n",
    "\n",
    "    bin_size = 1.0 / len(counts)\n",
    "    positions = bins[:-1] + bin_size/2.0\n",
    "\n",
    "    ax.bar(positions, counts, width=bin_size * 0.9, color=(0.2, 0.4, 0.6, 0.6))\n",
    "   \n",
    "    ax.set_xlim(0, 1)\n",
    "    #ax.set_title(title)\n",
    "    ax.set_xlabel(xlabel)\n",
    "    ax.set_ylabel(ylabel)\n",
    "    ax.grid(False)\n",
    "\n",
    "    if draw_averages:\n",
    "        ax.text(0.6, 200, \"%.2f\" % bin_data['avg_accuracy'], color=\"black\", \n",
    "                ha=\"center\", va=\"center\")\n",
    "  \n",
    "        ax.text(0.77, 210, \"%.2f\" % bin_data['avg_confidence'], color=\"black\",\n",
    "                ha=\"center\", va=\"center\")\n",
    "        acc_plt = ax.axvline(x=bin_data[\"avg_accuracy\"], ls=\"solid\", lw=3, \n",
    "                             c=\"black\", label=\"Accuracy\")\n",
    "        conf_plt = ax.axvline(x=bin_data[\"avg_confidence\"], ls=\"dotted\", lw=3, \n",
    "                              c=\"#444\", label=\"Avg. confidence\")\n",
    "        ax.legend(handles=[acc_plt, conf_plt])\n",
    "\n",
    "\n",
    "def _reliability_diagram_combined(bin_data, \n",
    "                                  draw_ece, draw_bin_importance, draw_averages, \n",
    "                                  title, figsize, dpi, return_fig):\n",
    "    \"\"\"Draws a reliability diagram and confidence histogram using the output\n",
    "    from compute_calibration().\"\"\"\n",
    "    figsize = (figsize[0], figsize[0] * 1.4)\n",
    "\n",
    "    fig, ax = plt.subplots(nrows=2, ncols=1, sharex=True, figsize=figsize, dpi=dpi, \n",
    "                           gridspec_kw={\"height_ratios\": [4, 1]})\n",
    "\n",
    "    plt.tight_layout()\n",
    "    plt.subplots_adjust(hspace=-0.1)\n",
    "\n",
    "    _reliability_diagram_subplot(ax[0], bin_data, draw_ece, draw_bin_importance, \n",
    "                                 title=title, xlabel=\"\")\n",
    "\n",
    "    # Draw the confidence histogram upside down.\n",
    "    orig_counts = bin_data[\"counts\"]\n",
    "    bin_data[\"counts\"] = -bin_data[\"counts\"]\n",
    "    _confidence_histogram_subplot(ax[1], bin_data, draw_averages, title=\"\")\n",
    "    bin_data[\"counts\"] = orig_counts\n",
    "\n",
    "    # Also negate the ticks for the upside-down histogram.\n",
    "    new_ticks = np.abs(ax[1].get_yticks()).astype(np.int)\n",
    "    ax[1].set_yticklabels(new_ticks)    \n",
    "\n",
    "    plt.show()\n",
    "\n",
    "    if return_fig: return fig"
   ]
  },
  {
   "cell_type": "code",
   "execution_count": 16,
   "metadata": {},
   "outputs": [],
   "source": [
    "def get_pred_conf(y_probs, normalize = False):\n",
    "    \n",
    "    y_preds = np.argmax(y_probs, axis=1)  # Take maximum confidence as prediction\n",
    "    \n",
    "    if normalize:\n",
    "        y_confs = np.max(y_probs, axis=1)/np.sum(y_probs, axis=1)\n",
    "    else:\n",
    "        y_confs = np.max(y_probs, axis=1)  # Take only maximum confidence\n",
    "        \n",
    "    return y_preds, y_confs"
   ]
  },
  {
   "cell_type": "code",
   "execution_count": 17,
   "metadata": {},
   "outputs": [],
   "source": [
    "def get_uncalibrated_res(probs, labels, M = 15):\n",
    "    \n",
    "    y_preds, y_confs = get_pred_conf(probs, normalize = False)\n",
    "    labels = np.array(labels)\n",
    "    \n",
    "    return compute_calibration(labels, y_preds, y_confs, num_bins = M)"
   ]
  },
  {
   "cell_type": "markdown",
   "metadata": {},
   "source": [
    "#### Binning OOD Prediction"
   ]
  },
  {
   "cell_type": "code",
   "execution_count": 18,
   "metadata": {},
   "outputs": [],
   "source": [
    "ood_lbl = np.array(ood_lbl)\n",
    "ood_pred = np.array(ood_pred)\n",
    "ood_probs_ = np.array(ood_probs_)\n",
    "bin_ood = compute_calibration(ood_lbl, ood_pred, ood_probs_, num_bins = 10)"
   ]
  },
  {
   "cell_type": "code",
   "execution_count": 19,
   "metadata": {},
   "outputs": [
    {
     "data": {
      "text/plain": [
       "{'accuracies': array([1.       , 1.       , 1.       , 1.       , 1.       , 1.       ,\n",
       "        1.       , 1.       , 0.1627907, 0.       ]),\n",
       " 'confidences': array([0.05300884, 0.14364061, 0.21807539, 0.35878167, 0.4575291 ,\n",
       "        0.55415547, 0.65655321, 0.75639242, 0.84548718, 0.92023683]),\n",
       " 'counts': array([ 4,  2,  6, 14, 32, 40, 55, 76, 86,  4]),\n",
       " 'bins': array([0. , 0.1, 0.2, 0.3, 0.4, 0.5, 0.6, 0.7, 0.8, 0.9, 1. ]),\n",
       " 'avg_accuracy': 0.7617554858934169,\n",
       " 'avg_confidence': 0.6696769814225947,\n",
       " 'expected_calibration_error': 0.48325621329691715,\n",
       " 'max_calibration_error': 0.9469911567866802}"
      ]
     },
     "execution_count": 19,
     "metadata": {},
     "output_type": "execute_result"
    }
   ],
   "source": [
    "bin_ood"
   ]
  },
  {
   "cell_type": "markdown",
   "metadata": {},
   "source": [
    "#### Binning ID Prediction"
   ]
  },
  {
   "cell_type": "code",
   "execution_count": 20,
   "metadata": {},
   "outputs": [],
   "source": [
    "bin_data = get_uncalibrated_res(id_probs, id_labels, M = 10)"
   ]
  },
  {
   "cell_type": "code",
   "execution_count": 21,
   "metadata": {},
   "outputs": [
    {
     "data": {
      "text/plain": [
       "{'accuracies': array([0.        , 0.        , 0.        , 0.        , 0.33333333,\n",
       "        0.66666667, 0.64864865, 0.65178571, 0.68396226, 0.71627907]),\n",
       " 'confidences': array([0.        , 0.        , 0.        , 0.        , 0.48672345,\n",
       "        0.56006944, 0.66797447, 0.76367664, 0.85428113, 0.92243141]),\n",
       " 'counts': array([  0,   0,   0,   0,   3,   9,  37, 112, 424, 215]),\n",
       " 'bins': array([0. , 0.1, 0.2, 0.3, 0.4, 0.5, 0.6, 0.7, 0.8, 0.9, 1. ]),\n",
       " 'avg_accuracy': 0.685,\n",
       " 'avg_confidence': 0.8466069823876023,\n",
       " 'expected_calibration_error': 0.16400541994720697,\n",
       " 'max_calibration_error': 0.20615233959153645}"
      ]
     },
     "execution_count": 21,
     "metadata": {},
     "output_type": "execute_result"
    }
   ],
   "source": [
    "bin_data"
   ]
  },
  {
   "cell_type": "markdown",
   "metadata": {},
   "source": [
    "#### Reliability Diagram"
   ]
  },
  {
   "cell_type": "code",
   "execution_count": 22,
   "metadata": {},
   "outputs": [
    {
     "data": {
      "image/png": "[encoded data removed]",
      "text/plain": [
       "<Figure size 432x288 with 1 Axes>"
      ]
     },
     "metadata": {},
     "output_type": "display_data"
    }
   ],
   "source": [
    "plt.rcParams.update({'font.size': 14})\n",
    "plt.style.use('seaborn-whitegrid')\n",
    "fig, ax = plt.subplots()\n",
    "_reliability_diagram_subplot(ax, bin_data)\n",
    "plt.show()"
   ]
  },
  {
   "cell_type": "markdown",
   "metadata": {},
   "source": [
    "#### Confidence Histogram for ID Prediction"
   ]
  },
  {
   "cell_type": "code",
   "execution_count": 23,
   "metadata": {},
   "outputs": [
    {
     "data": {
      "image/png": "[encoded data removed]",
      "text/plain": [
       "<Figure size 288x180 with 1 Axes>"
      ]
     },
     "metadata": {},
     "output_type": "display_data"
    }
   ],
   "source": [
    "plt.style.use('seaborn-whitegrid')\n",
    "fig, ax = plt.subplots(figsize=(4,2.5))\n",
    "_confidence_histogram_subplot(ax, bin_data)\n",
    "plt.show()"
   ]
  },
  {
   "cell_type": "markdown",
   "metadata": {},
   "source": [
    "#### Confidence HIstogram for OOD Prediction"
   ]
  },
  {
   "cell_type": "code",
   "execution_count": 24,
   "metadata": {},
   "outputs": [
    {
     "data": {
      "image/png": "[encoded data removed]",
      "text/plain": [
       "<Figure size 288x180 with 1 Axes>"
      ]
     },
     "metadata": {},
     "output_type": "display_data"
    }
   ],
   "source": [
    "plt.style.use('seaborn-whitegrid')\n",
    "fig, ax = plt.subplots(figsize=(4,2.5))\n",
    "_confidence_histogram_subplot_ood(ax, bin_ood)\n",
    "plt.show()"
   ]
  }
 ],
 "metadata": {
  "kernelspec": {
   "display_name": "tf-anac",
   "language": "python",
   "name": "tf-anac"
  },
  "language_info": {
   "codemirror_mode": {
    "name": "ipython",
    "version": 3
   },
   "file_extension": ".py",
   "mimetype": "text/x-python",
   "name": "python",
   "nbconvert_exporter": "python",
   "pygments_lexer": "ipython3",
   "version": "3.7.6"
  }
 },
 "nbformat": 4,
 "nbformat_minor": 4
}
